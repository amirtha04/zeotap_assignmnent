{
 "cells": [
  {
   "cell_type": "code",
   "execution_count": 6,
   "id": "18fd67f5-0462-4dd5-a6b9-ba3fbce47a37",
   "metadata": {},
   "outputs": [],
   "source": [
    "import pandas as pd\n",
    "import numpy as np\n",
    "from sklearn.metrics.pairwise import cosine_similarity\n",
    "from sklearn.preprocessing import StandardScaler"
   ]
  },
  {
   "cell_type": "code",
   "execution_count": 7,
   "id": "dc322212-a355-498b-a644-1c411b05d657",
   "metadata": {},
   "outputs": [
    {
     "name": "stdout",
     "output_type": "stream",
     "text": [
      "  CustomerID        CustomerName         Region  SignupDate\n",
      "0      C0001    Lawrence Carroll  South America  2022-07-10\n",
      "1      C0002      Elizabeth Lutz           Asia  2022-02-13\n",
      "2      C0003      Michael Rivera  South America  2024-03-07\n",
      "3      C0004  Kathleen Rodriguez  South America  2022-10-09\n",
      "4      C0005         Laura Weber           Asia  2022-08-15\n",
      "  ProductID              ProductName     Category   Price\n",
      "0      P001     ActiveWear Biography        Books  169.30\n",
      "1      P002    ActiveWear Smartwatch  Electronics  346.30\n",
      "2      P003  ComfortLiving Biography        Books   44.12\n",
      "3      P004            BookWorld Rug   Home Decor   95.69\n",
      "4      P005          TechPro T-Shirt     Clothing  429.31\n",
      "  TransactionID CustomerID ProductID      TransactionDate  Quantity  \\\n",
      "0        T00001      C0199      P067  2024-08-25 12:38:23         1   \n",
      "1        T00112      C0146      P067  2024-05-27 22:23:54         1   \n",
      "2        T00166      C0127      P067  2024-04-25 07:38:55         1   \n",
      "3        T00272      C0087      P067  2024-03-26 22:55:37         2   \n",
      "4        T00363      C0070      P067  2024-03-21 15:10:10         3   \n",
      "\n",
      "   TotalValue   Price  \n",
      "0      300.68  300.68  \n",
      "1      300.68  300.68  \n",
      "2      300.68  300.68  \n",
      "3      601.36  300.68  \n",
      "4      902.04  300.68  \n"
     ]
    }
   ],
   "source": [
    "# Load datasets\n",
    "customers = pd.read_csv('Customers.csv')\n",
    "products = pd.read_csv('Products.csv')\n",
    "transactions = pd.read_csv('Transactions.csv')\n",
    "\n",
    "# Preview data\n",
    "print(customers.head())\n",
    "print(products.head())\n",
    "print(transactions.head())"
   ]
  },
  {
   "cell_type": "code",
   "execution_count": 8,
   "id": "1d3b6305-3494-4179-a992-e98b237f42b4",
   "metadata": {},
   "outputs": [
    {
     "name": "stdout",
     "output_type": "stream",
     "text": [
      "Columns in merged dataset: Index(['TransactionID', 'CustomerID', 'ProductID', 'TransactionDate',\n",
      "       'Quantity', 'TotalValue', 'Price', 'ProductName', 'Category',\n",
      "       'ProductPrice', 'CustomerName', 'Region', 'SignupDate'],\n",
      "      dtype='object')\n"
     ]
    }
   ],
   "source": [
    "# Rename the 'Price' column in Products to avoid conflicts\n",
    "products.rename(columns={'Price': 'ProductPrice'}, inplace=True)\n",
    "\n",
    "# Merge Transactions with Products\n",
    "transactions = transactions.merge(products, on='ProductID', how='left')\n",
    "\n",
    "# Merge Transactions with Customers\n",
    "data = transactions.merge(customers, on='CustomerID', how='left')\n",
    "\n",
    "# Verify columns in the merged dataset\n",
    "print(\"Columns in merged dataset:\", data.columns)\n",
    "\n",
    "# Check if 'Category' column exists\n",
    "if 'Category' not in data.columns:\n",
    "    raise ValueError(\"Category column is missing in the merged dataset!\")\n",
    "\n"
   ]
  },
  {
   "cell_type": "code",
   "execution_count": 9,
   "id": "bbefbad2-6114-4ef6-9501-20c0e10d21ae",
   "metadata": {},
   "outputs": [
    {
     "name": "stdout",
     "output_type": "stream",
     "text": [
      "<class 'pandas.core.frame.DataFrame'>\n",
      "RangeIndex: 1000 entries, 0 to 999\n",
      "Data columns (total 13 columns):\n",
      " #   Column           Non-Null Count  Dtype         \n",
      "---  ------           --------------  -----         \n",
      " 0   TransactionID    1000 non-null   object        \n",
      " 1   CustomerID       1000 non-null   object        \n",
      " 2   ProductID        1000 non-null   object        \n",
      " 3   TransactionDate  1000 non-null   datetime64[ns]\n",
      " 4   Quantity         1000 non-null   int64         \n",
      " 5   TotalValue       1000 non-null   float64       \n",
      " 6   Price            1000 non-null   float64       \n",
      " 7   ProductPrice     1000 non-null   float64       \n",
      " 8   ProductName      1000 non-null   object        \n",
      " 9   Category         1000 non-null   object        \n",
      " 10  CustomerName     1000 non-null   object        \n",
      " 11  Region           1000 non-null   object        \n",
      " 12  SignupDate       1000 non-null   datetime64[ns]\n",
      "dtypes: datetime64[ns](2), float64(3), int64(1), object(7)\n",
      "memory usage: 101.7+ KB\n",
      "None\n",
      "  TransactionID CustomerID ProductID     TransactionDate  Quantity  \\\n",
      "0        T00001      C0199      P067 2024-08-25 12:38:23         1   \n",
      "1        T00112      C0146      P067 2024-05-27 22:23:54         1   \n",
      "2        T00166      C0127      P067 2024-04-25 07:38:55         1   \n",
      "3        T00272      C0087      P067 2024-03-26 22:55:37         2   \n",
      "4        T00363      C0070      P067 2024-03-21 15:10:10         3   \n",
      "\n",
      "   TotalValue   Price  ProductPrice                      ProductName  \\\n",
      "0      300.68  300.68        300.68  ComfortLiving Bluetooth Speaker   \n",
      "1      300.68  300.68        300.68  ComfortLiving Bluetooth Speaker   \n",
      "2      300.68  300.68        300.68  ComfortLiving Bluetooth Speaker   \n",
      "3      601.36  300.68        300.68  ComfortLiving Bluetooth Speaker   \n",
      "4      902.04  300.68        300.68  ComfortLiving Bluetooth Speaker   \n",
      "\n",
      "      Category     CustomerName         Region SignupDate  \n",
      "0  Electronics   Andrea Jenkins         Europe 2022-12-03  \n",
      "1  Electronics  Brittany Harvey           Asia 2024-09-04  \n",
      "2  Electronics  Kathryn Stevens         Europe 2024-04-04  \n",
      "3  Electronics  Travis Campbell  South America 2024-04-11  \n",
      "4  Electronics    Timothy Perez         Europe 2022-03-15  \n"
     ]
    }
   ],
   "source": [
    "# Select relevant columns after merging\n",
    "data = data[[\n",
    "    'TransactionID', 'CustomerID', 'ProductID', 'TransactionDate', 'Quantity', \n",
    "    'TotalValue', 'Price', 'ProductPrice', 'ProductName', 'Category', \n",
    "    'CustomerName', 'Region', 'SignupDate'\n",
    "]]\n",
    "\n",
    "# Convert date columns to datetime for easier manipulation\n",
    "data['TransactionDate'] = pd.to_datetime(data['TransactionDate'])\n",
    "data['SignupDate'] = pd.to_datetime(data['SignupDate'])\n",
    "\n",
    "# Verify the cleaned dataset\n",
    "print(data.info())\n",
    "print(data.head())\n"
   ]
  },
  {
   "cell_type": "code",
   "execution_count": 10,
   "id": "17fd92dd-b65b-4381-9432-599448831e98",
   "metadata": {},
   "outputs": [
    {
     "name": "stdout",
     "output_type": "stream",
     "text": [
      "  CustomerID  TotalValue  Quantity  \\\n",
      "0      C0001     3354.52        12   \n",
      "1      C0002     1862.74        10   \n",
      "2      C0003     2725.38        14   \n",
      "3      C0004     5354.88        23   \n",
      "4      C0005     2034.24         7   \n",
      "\n",
      "                                          ProductID  \\\n",
      "0                    [P054, P022, P096, P083, P029]   \n",
      "1                          [P095, P004, P019, P071]   \n",
      "2                          [P025, P006, P035, P002]   \n",
      "3  [P049, P053, P038, P025, P097, P024, P008, P077]   \n",
      "4                                [P025, P039, P012]   \n",
      "\n",
      "                                            Category        CustomerName  \\\n",
      "0  [Books, Home Decor, Electronics, Electronics, ...    Lawrence Carroll   \n",
      "1       [Home Decor, Home Decor, Clothing, Clothing]      Elizabeth Lutz   \n",
      "2    [Home Decor, Home Decor, Clothing, Electronics]      Michael Rivera   \n",
      "3  [Books, Home Decor, Home Decor, Home Decor, Bo...  Kathleen Rodriguez   \n",
      "4             [Home Decor, Electronics, Electronics]         Laura Weber   \n",
      "\n",
      "          Region SignupDate  \n",
      "0  South America 2022-07-10  \n",
      "1           Asia 2022-02-13  \n",
      "2  South America 2024-03-07  \n",
      "3  South America 2022-10-09  \n",
      "4           Asia 2022-08-15  \n"
     ]
    }
   ],
   "source": [
    "# Aggregate features for each customer\n",
    "customer_features = data.groupby('CustomerID').agg({\n",
    "    'TotalValue': 'sum',                # Total spending\n",
    "    'Quantity': 'sum',                  # Total quantity purchased\n",
    "    'ProductID': lambda x: list(x),     # List of products purchased\n",
    "    'Category': lambda x: list(x),      # List of categories purchased\n",
    "}).reset_index()\n",
    "\n",
    "# Add demographic data\n",
    "customer_features = customer_features.merge(\n",
    "    data[['CustomerID', 'CustomerName', 'Region', 'SignupDate']].drop_duplicates(),\n",
    "    on='CustomerID',\n",
    "    how='left'\n",
    ")\n",
    "\n",
    "# Verify the aggregated customer features\n",
    "print(customer_features.head())\n"
   ]
  },
  {
   "cell_type": "code",
   "execution_count": 14,
   "id": "ec551211-5175-4e6a-bef8-545cfcef6e37",
   "metadata": {},
   "outputs": [],
   "source": [
    "from sklearn.preprocessing import OneHotEncoder\n",
    "from sklearn.feature_extraction.text import CountVectorizer\n",
    "from sklearn.preprocessing import MinMaxScaler\n",
    "import numpy as np\n",
    "\n",
    "# One-hot encode the region\n",
    "encoder = OneHotEncoder()\n",
    "region_encoded = encoder.fit_transform(customer_features[['Region']]).toarray()\n",
    "\n",
    "# Convert product and category lists to string for vectorization\n",
    "customer_features['ProductID_str'] = customer_features['ProductID'].apply(lambda x: ' '.join(x))\n",
    "customer_features['Category_str'] = customer_features['Category'].apply(lambda x: ' '.join(x))\n",
    "\n",
    "# Vectorize product and category features\n",
    "vectorizer = CountVectorizer()\n",
    "product_vectorized = vectorizer.fit_transform(customer_features['ProductID_str'])\n",
    "category_vectorized = vectorizer.fit_transform(customer_features['Category_str'])\n",
    "\n",
    "# Normalize numerical features\n",
    "scaler = MinMaxScaler()\n",
    "numerical_features = scaler.fit_transform(customer_features[['TotalValue', 'Quantity']])\n",
    "\n",
    "# Combine all features into a single matrix\n",
    "final_features = np.hstack([\n",
    "    numerical_features,\n",
    "    region_encoded,\n",
    "    product_vectorized.toarray(),\n",
    "    category_vectorized.toarray()\n",
    "])\n"
   ]
  },
  {
   "cell_type": "code",
   "execution_count": 15,
   "id": "b577483c-3561-411a-9dd3-7938d5d3610c",
   "metadata": {},
   "outputs": [
    {
     "name": "stdout",
     "output_type": "stream",
     "text": [
      "CustomerID     C0001     C0002     C0003     C0004     C0005     C0006  \\\n",
      "CustomerID                                                               \n",
      "C0001       1.000000  0.235298  0.493659  0.602047  0.599819  0.350770   \n",
      "C0002       0.235298  1.000000  0.629403  0.465386  0.387502  0.425560   \n",
      "C0003       0.493659  0.629403  1.000000  0.658998  0.575314  0.456652   \n",
      "C0004       0.602047  0.465386  0.658998  1.000000  0.554278  0.601118   \n",
      "C0005       0.599819  0.387502  0.575314  0.554278  1.000000  0.192508   \n",
      "\n",
      "CustomerID     C0007     C0008     C0009     C0010  ...     C0191     C0192  \\\n",
      "CustomerID                                          ...                       \n",
      "C0001       0.674481  0.566430  0.237775  0.070637  ...  0.599082  0.572590   \n",
      "C0002       0.388197  0.708939  0.324685  0.380651  ...  0.007724  0.152257   \n",
      "C0003       0.495857  0.755036  0.259976  0.209777  ...  0.187413  0.318645   \n",
      "C0004       0.506430  0.715236  0.108761  0.174213  ...  0.513855  0.388319   \n",
      "C0005       0.702465  0.589560  0.212750  0.007863  ...  0.295943  0.480599   \n",
      "\n",
      "CustomerID     C0193     C0194     C0195     C0196     C0197     C0198  \\\n",
      "CustomerID                                                               \n",
      "C0001       0.213784  0.664071  0.437527  0.296416  0.600520  0.318958   \n",
      "C0002       0.059885  0.489302  0.710751  0.591017  0.312232  0.219466   \n",
      "C0003       0.011368  0.573689  0.757704  0.569929  0.495947  0.234273   \n",
      "C0004       0.420928  0.731060  0.612267  0.582419  0.506290  0.145961   \n",
      "C0005       0.076230  0.572986  0.466798  0.314334  0.603129  0.285378   \n",
      "\n",
      "CustomerID     C0199     C0200  \n",
      "CustomerID                      \n",
      "C0001       0.631514  0.389035  \n",
      "C0002       0.473823  0.586414  \n",
      "C0003       0.628990  0.493192  \n",
      "C0004       0.654331  0.476855  \n",
      "C0005       0.615947  0.429287  \n",
      "\n",
      "[5 rows x 199 columns]\n"
     ]
    }
   ],
   "source": [
    "# Calculate the cosine similarity between customers based on the final feature matrix\n",
    "similarity_matrix = cosine_similarity(final_features)\n",
    "\n",
    "# Convert the similarity matrix to a DataFrame for easier viewing\n",
    "similarity_df = pd.DataFrame(similarity_matrix, index=customer_features['CustomerID'], columns=customer_features['CustomerID'])\n",
    "\n",
    "# Display the similarity matrix for the first few customers\n",
    "print(similarity_df.head())\n"
   ]
  },
  {
   "cell_type": "code",
   "execution_count": 16,
   "id": "c493d5e7-b37f-4642-88bd-74ea3180ab86",
   "metadata": {},
   "outputs": [
    {
     "name": "stdout",
     "output_type": "stream",
     "text": [
      "{'C0001': ['C0190', 'C0069', 'C0120'], 'C0002': ['C0134', 'C0133', 'C0178'], 'C0003': ['C0031', 'C0181', 'C0163'], 'C0004': ['C0065', 'C0041', 'C0047'], 'C0005': ['C0096', 'C0162', 'C0007'], 'C0006': ['C0071', 'C0139', 'C0147'], 'C0007': ['C0140', 'C0162', 'C0045'], 'C0008': ['C0059', 'C0162', 'C0104'], 'C0009': ['C0062', 'C0105', 'C0056'], 'C0010': ['C0099', 'C0034', 'C0092'], 'C0011': ['C0171', 'C0126', 'C0087'], 'C0012': ['C0065', 'C0152', 'C0076'], 'C0013': ['C0107', 'C0049', 'C0099'], 'C0014': ['C0128', 'C0089', 'C0060'], 'C0015': ['C0036', 'C0065', 'C0038'], 'C0016': ['C0183', 'C0072', 'C0192'], 'C0017': ['C0075', 'C0081', 'C0104'], 'C0018': ['C0064', 'C0068', 'C0087'], 'C0019': ['C0064', 'C0191', 'C0070'], 'C0020': ['C0026', 'C0050', 'C0007'], 'C0021': ['C0045', 'C0075', 'C0101'], 'C0022': ['C0175', 'C0145', 'C0141'], 'C0023': ['C0191', 'C0068', 'C0019'], 'C0024': ['C0116', 'C0194', 'C0175'], 'C0025': ['C0104', 'C0160', 'C0065'], 'C0026': ['C0197', 'C0098', 'C0149'], 'C0027': ['C0142', 'C0087', 'C0156'], 'C0028': ['C0188', 'C0145', 'C0183'], 'C0029': ['C0156', 'C0034', 'C0049'], 'C0030': ['C0034', 'C0109', 'C0099'], 'C0031': ['C0195', 'C0003', 'C0163'], 'C0032': ['C0107', 'C0013', 'C0155'], 'C0033': ['C0058', 'C0010', 'C0183'], 'C0034': ['C0049', 'C0056', 'C0030'], 'C0035': ['C0157', 'C0055', 'C0194'], 'C0036': ['C0015', 'C0024', 'C0079'], 'C0037': ['C0172', 'C0065', 'C0136'], 'C0038': ['C0065', 'C0052', 'C0047'], 'C0039': ['C0181', 'C0148', 'C0157'], 'C0040': ['C0058', 'C0013', 'C0056'], 'C0041': ['C0064', 'C0004', 'C0017'], 'C0042': ['C0185', 'C0099', 'C0176'], 'C0043': ['C0147', 'C0138', 'C0175'], 'C0044': ['C0161', 'C0105', 'C0074'], 'C0045': ['C0021', 'C0084', 'C0069'], 'C0046': ['C0116', 'C0175', 'C0147'], 'C0047': ['C0038', 'C0065', 'C0152'], 'C0048': ['C0148', 'C0192', 'C0096'], 'C0049': ['C0034', 'C0013', 'C0183'], 'C0050': ['C0068', 'C0023', 'C0125'], 'C0051': ['C0127', 'C0054', 'C0199'], 'C0052': ['C0038', 'C0065', 'C0012'], 'C0053': ['C0124', 'C0103', 'C0086'], 'C0054': ['C0051', 'C0162', 'C0149'], 'C0055': ['C0194', 'C0035', 'C0188'], 'C0056': ['C0034', 'C0022', 'C0099'], 'C0057': ['C0075', 'C0122', 'C0021'], 'C0058': ['C0040', 'C0030', 'C0033'], 'C0059': ['C0104', 'C0008', 'C0065'], 'C0060': ['C0166', 'C0089', 'C0014'], 'C0061': ['C0099', 'C0010', 'C0074'], 'C0062': ['C0098', 'C0009', 'C0145'], 'C0063': ['C0070', 'C0142', 'C0171'], 'C0064': ['C0041', 'C0019', 'C0121'], 'C0065': ['C0038', 'C0160', 'C0104'], 'C0066': ['C0016', 'C0069', 'C0105'], 'C0067': ['C0098', 'C0102', 'C0141'], 'C0068': ['C0050', 'C0125', 'C0087'], 'C0069': ['C0197', 'C0091', 'C0120'], 'C0070': ['C0063', 'C0019', 'C0064'], 'C0071': ['C0006', 'C0137', 'C0139'], 'C0072': ['C0016', 'C0096', 'C0105'], 'C0073': ['C0137', 'C0131', 'C0047'], 'C0074': ['C0125', 'C0061', 'C0107'], 'C0075': ['C0122', 'C0057', 'C0017'], 'C0076': ['C0152', 'C0012', 'C0065'], 'C0077': ['C0099', 'C0010', 'C0083'], 'C0078': ['C0193', 'C0142', 'C0161'], 'C0079': ['C0100', 'C0076', 'C0059'], 'C0080': ['C0136', 'C0128', 'C0110'], 'C0081': ['C0104', 'C0124', 'C0103'], 'C0082': ['C0147', 'C0108', 'C0139'], 'C0083': ['C0099', 'C0165', 'C0010'], 'C0084': ['C0045', 'C0068', 'C0049'], 'C0085': ['C0039', 'C0181', 'C0004'], 'C0086': ['C0182', 'C0166', 'C0124'], 'C0087': ['C0155', 'C0188', 'C0191'], 'C0088': ['C0192', 'C0049', 'C0084'], 'C0089': ['C0152', 'C0163', 'C0196'], 'C0090': ['C0175', 'C0047', 'C0021'], 'C0091': ['C0069', 'C0045', 'C0096'], 'C0092': ['C0099', 'C0010', 'C0029'], 'C0093': ['C0175', 'C0143', 'C0145'], 'C0094': ['C0101', 'C0126', 'C0011'], 'C0095': ['C0152', 'C0199', 'C0163'], 'C0096': ['C0005', 'C0091', 'C0072'], 'C0097': ['C0140', 'C0128', 'C0080'], 'C0098': ['C0145', 'C0141', 'C0173'], 'C0099': ['C0061', 'C0010', 'C0083'], 'C0100': ['C0179', 'C0065', 'C0059'], 'C0101': ['C0156', 'C0021', 'C0013'], 'C0102': ['C0114', 'C0118', 'C0184'], 'C0103': ['C0124', 'C0081', 'C0053'], 'C0104': ['C0065', 'C0059', 'C0152'], 'C0105': ['C0072', 'C0084', 'C0016'], 'C0106': ['C0195', 'C0159', 'C0008'], 'C0107': ['C0013', 'C0049', 'C0084'], 'C0108': ['C0147', 'C0145', 'C0053'], 'C0109': ['C0141', 'C0093', 'C0145'], 'C0110': ['C0128', 'C0080', 'C0097'], 'C0111': ['C0109', 'C0053', 'C0141'], 'C0112': ['C0155', 'C0102', 'C0068'], 'C0113': ['C0172', 'C0104', 'C0152'], 'C0114': ['C0102', 'C0182', 'C0096'], 'C0115': ['C0084', 'C0186', 'C0068'], 'C0116': ['C0024', 'C0046', 'C0157'], 'C0117': ['C0059', 'C0109', 'C0008'], 'C0118': ['C0102', 'C0084', 'C0075'], 'C0119': ['C0148', 'C0059', 'C0127'], 'C0120': ['C0069', 'C0001', 'C0091'], 'C0121': ['C0064', 'C0017', 'C0041'], 'C0122': ['C0075', 'C0162', 'C0008'], 'C0123': ['C0138', 'C0065', 'C0196'], 'C0124': ['C0104', 'C0053', 'C0103'], 'C0125': ['C0068', 'C0023', 'C0168'], 'C0126': ['C0171', 'C0153', 'C0011'], 'C0127': ['C0051', 'C0199', 'C0197'], 'C0128': ['C0159', 'C0136', 'C0012'], 'C0129': ['C0195', 'C0100', 'C0003'], 'C0130': ['C0120', 'C0112', 'C0155'], 'C0131': ['C0139', 'C0137', 'C0160'], 'C0132': ['C0070', 'C0064', 'C0010'], 'C0133': ['C0076', 'C0002', 'C0134'], 'C0134': ['C0002', 'C0133', 'C0053'], 'C0135': ['C0196', 'C0147', 'C0064'], 'C0136': ['C0065', 'C0128', 'C0037'], 'C0137': ['C0038', 'C0065', 'C0136'], 'C0138': ['C0104', 'C0196', 'C0065'], 'C0139': ['C0131', 'C0171', 'C0047'], 'C0140': ['C0097', 'C0007', 'C0162'], 'C0141': ['C0175', 'C0109', 'C0200'], 'C0142': ['C0193', 'C0171', 'C0027'], 'C0143': ['C0093', 'C0103', 'C0008'], 'C0144': ['C0134', 'C0008', 'C0003'], 'C0145': ['C0028', 'C0093', 'C0098'], 'C0146': ['C0127', 'C0001', 'C0051'], 'C0147': ['C0175', 'C0082', 'C0108'], 'C0148': ['C0119', 'C0039', 'C0059'], 'C0149': ['C0026', 'C0054', 'C0141'], 'C0150': ['C0083', 'C0077', 'C0034'], 'C0151': ['C0076', 'C0052', 'C0152'], 'C0152': ['C0163', 'C0076', 'C0065'], 'C0153': ['C0126', 'C0171', 'C0193'], 'C0154': ['C0194', 'C0008', 'C0059'], 'C0155': ['C0087', 'C0191', 'C0168'], 'C0156': ['C0101', 'C0183', 'C0029'], 'C0157': ['C0008', 'C0116', 'C0039'], 'C0158': ['C0076', 'C0195', 'C0012'], 'C0159': ['C0128', 'C0106', 'C0136'], 'C0160': ['C0065', 'C0104', 'C0038'], 'C0161': ['C0147', 'C0021', 'C0156'], 'C0162': ['C0008', 'C0059', 'C0122'], 'C0163': ['C0152', 'C0012', 'C0052'], 'C0164': ['C0008', 'C0104', 'C0059'], 'C0165': ['C0169', 'C0156', 'C0099'], 'C0166': ['C0089', 'C0163', 'C0060'], 'C0167': ['C0053', 'C0081', 'C0182'], 'C0168': ['C0155', 'C0023', 'C0191'], 'C0169': ['C0165', 'C0108', 'C0099'], 'C0170': ['C0059', 'C0166', 'C0172'], 'C0171': ['C0126', 'C0193', 'C0142'], 'C0172': ['C0037', 'C0012', 'C0065'], 'C0173': ['C0098', 'C0175', 'C0164'], 'C0174': ['C0064', 'C0139', 'C0147'], 'C0175': ['C0046', 'C0147', 'C0022'], 'C0176': ['C0034', 'C0042', 'C0056'], 'C0177': ['C0021', 'C0041', 'C0018'], 'C0178': ['C0138', 'C0076', 'C0052'], 'C0179': ['C0100', 'C0065', 'C0104'], 'C0181': ['C0003', 'C0039', 'C0008'], 'C0182': ['C0086', 'C0081', 'C0100'], 'C0183': ['C0049', 'C0016', 'C0156'], 'C0184': ['C0102', 'C0048', 'C0091'], 'C0185': ['C0042', 'C0098', 'C0141'], 'C0186': ['C0068', 'C0023', 'C0115'], 'C0187': ['C0104', 'C0037', 'C0160'], 'C0188': ['C0028', 'C0087', 'C0155'], 'C0189': ['C0079', 'C0059', 'C0008'], 'C0190': ['C0001', 'C0188', 'C0039'], 'C0191': ['C0155', 'C0087', 'C0019'], 'C0192': ['C0048', 'C0016', 'C0088'], 'C0193': ['C0171', 'C0142', 'C0139'], 'C0194': ['C0154', 'C0024', 'C0113'], 'C0195': ['C0031', 'C0059', 'C0106'], 'C0196': ['C0138', 'C0089', 'C0104'], 'C0197': ['C0069', 'C0127', 'C0026'], 'C0198': ['C0149', 'C0049', 'C0013'], 'C0199': ['C0127', 'C0051', 'C0154'], 'C0200': ['C0175', 'C0141', 'C0145']}\n"
     ]
    }
   ],
   "source": [
    "# Create a dictionary to store lookalikes for each customer\n",
    "lookalikes = {}\n",
    "\n",
    "# For each customer, find the top 3 lookalikes (excluding themselves)\n",
    "top_n = 3  # Number of lookalikes you want to identify\n",
    "for customer_id in similarity_df.index:\n",
    "    # Get the similarity scores for the customer\n",
    "    similar_customers = similarity_df[customer_id].sort_values(ascending=False)\n",
    "    \n",
    "    # Drop the customer itself and select the top N similar customers\n",
    "    top_lookalikes = similar_customers.drop(customer_id).head(top_n).index.tolist()\n",
    "    \n",
    "    # Store the lookalikes\n",
    "    lookalikes[customer_id] = top_lookalikes\n",
    "\n",
    "# Display the lookalikes dictionary\n",
    "print(lookalikes)\n"
   ]
  },
  {
   "cell_type": "code",
   "execution_count": 17,
   "id": "d86e92e7-1a1c-4db7-9306-1230bd1d828e",
   "metadata": {},
   "outputs": [
    {
     "name": "stdout",
     "output_type": "stream",
     "text": [
      "Lookalike.csv has been successfully created.\n"
     ]
    }
   ],
   "source": [
    "import csv\n",
    "\n",
    "# Open the file Lookalike.csv in write mode\n",
    "with open('Lookalike.csv', 'w', newline='') as file:\n",
    "    writer = csv.writer(file)\n",
    "    \n",
    "    # Write the header row: [\"CustomerID\", \"Lookalikes\"]\n",
    "    writer.writerow(['CustomerID', 'Lookalikes'])\n",
    "    \n",
    "    # Write the lookalikes data\n",
    "    for customer_id, lookalike_list in lookalikes.items():\n",
    "        # Join the lookalike list into a string, separated by commas\n",
    "        writer.writerow([customer_id, ', '.join(map(str, lookalike_list))])\n",
    "        \n",
    "print(\"Lookalike.csv has been successfully created.\")\n"
   ]
  },
  {
   "cell_type": "code",
   "execution_count": 18,
   "id": "b80be1f3-7b22-44ff-aa3e-5844d73a28df",
   "metadata": {},
   "outputs": [
    {
     "name": "stdout",
     "output_type": "stream",
     "text": [
      "  CustomerID           Lookalikes\n",
      "0      C0001  C0190, C0069, C0120\n",
      "1      C0002  C0134, C0133, C0178\n",
      "2      C0003  C0031, C0181, C0163\n",
      "3      C0004  C0065, C0041, C0047\n",
      "4      C0005  C0096, C0162, C0007\n"
     ]
    }
   ],
   "source": [
    "# Load the Lookalike.csv to verify the output\n",
    "lookalikes_df = pd.read_csv('Lookalike.csv')\n",
    "print(lookalikes_df.head())\n"
   ]
  },
  {
   "cell_type": "code",
   "execution_count": null,
   "id": "3653f3c4-3830-4dbd-9157-c57f944e660e",
   "metadata": {},
   "outputs": [],
   "source": []
  }
 ],
 "metadata": {
  "kernelspec": {
   "display_name": "Python 3 (ipykernel)",
   "language": "python",
   "name": "python3"
  },
  "language_info": {
   "codemirror_mode": {
    "name": "ipython",
    "version": 3
   },
   "file_extension": ".py",
   "mimetype": "text/x-python",
   "name": "python",
   "nbconvert_exporter": "python",
   "pygments_lexer": "ipython3",
   "version": "3.12.5"
  }
 },
 "nbformat": 4,
 "nbformat_minor": 5
}
